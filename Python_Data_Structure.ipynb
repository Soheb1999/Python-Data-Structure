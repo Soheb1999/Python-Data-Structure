{
  "nbformat": 4,
  "nbformat_minor": 0,
  "metadata": {
    "colab": {
      "provenance": []
    },
    "kernelspec": {
      "name": "python3",
      "display_name": "Python 3"
    },
    "language_info": {
      "name": "python"
    }
  },
  "cells": [
    {
      "cell_type": "markdown",
      "source": [
        "# PYTHON DATA STRUCTURE"
      ],
      "metadata": {
        "id": "9oxBgOrE_rja"
      }
    },
    {
      "cell_type": "markdown",
      "source": [
        "Q.1.What are data structures, and why are they important ?\n",
        "\n",
        "Answer - Data structures are a way of organizing and storing data in a computer so that it can be used efficiently. They provide a framework for managing and manipulating data, enabling faster and more organized access, storage, and retrieval. Data structures are fundamental to computer science, impacting the efficiency, performance, and scalability of software and systems."
      ],
      "metadata": {
        "id": "xAPmHT2W_3eS"
      }
    },
    {
      "cell_type": "markdown",
      "source": [
        "Q.2. Explain the difference between mutable and immutable data types with examples ?\n",
        "\n",
        "Answer  - Mutable data types are those whose values can be modified after they are created, while immutable data types are those whose values cannot be modified once created. Understanding the difference between these two types of data is essential for writing efficient and effective code.\n",
        "\n",
        "Mutable Data Types :\n",
        "\n",
        "(a)Lists: Lists are ordered collections of items that can be modified by adding,\n",
        "\n",
        "removing, or changing elements.\n",
        "\n",
        "(b)Dictionaries: Dictionaries are unordered collections of key-value pairs, where the values can be modified by adding, deleting, or changing key-value pairs.\n",
        "\n",
        "(c)Sets: Sets are unordered collections of unique elements that can be modified by adding or removing elements.\n",
        "\n",
        "Immutable Data Types:\n",
        "\n",
        "(a)Strings: Strings are sequences of characters that cannot be changed once they are created. Any attempt to modify a string will result in a new string object being created.\n",
        "\n",
        "(b)Tuples: Tuples are ordered sequences of items that cannot be modified once they are created. Like strings, any attempt to modify a tuple will result in a new tuple object being created."
      ],
      "metadata": {
        "id": "ktFMOlpWMSoB"
      }
    },
    {
      "cell_type": "markdown",
      "source": [
        "Q.3. What are the main differences between lists and tuples in Python ?\n",
        "\n",
        "Answer - Here are the main differences between lists and tuples in Python:\n",
        "\n",
        "(1)Mutability:\n",
        "\n",
        "(a)Lists\n",
        "are mutable, meaning their elements can be changed after creation. You can add, remove, or modify elements in a list.\n",
        "\n",
        "(b)Tuples\n",
        "are immutable, meaning their elements cannot be changed after creation. Once a tuple is created, its contents are fixed.\n",
        "\n",
        "(2)Syntax:\n",
        "\n",
        "(a)Lists are defined using square brackets [].\n",
        "\n",
        "(b)Tuples are defined using parentheses ().\n",
        "\n",
        "(3)Performance:\n",
        "\n",
        "(a)Tuples\n",
        "are generally faster than lists because they are immutable. Python can optimize their storage and access.\n",
        "\n",
        "(b)Lists\n",
        "are slightly slower due to their dynamic nature and the overhead of managing mutability."
      ],
      "metadata": {
        "id": "dW8u_qm5OWgV"
      }
    },
    {
      "cell_type": "markdown",
      "source": [
        "Q.4. Describe how dictionaries store data ?\n",
        "\n",
        "Answer  - With dictionaries, data is stored in a key:value format. In this example, myCar is the variable that we have assigned our dictionary to. \"Brand\", \"Model\" and \"Year\" are the keys, while \"Hyundai\", \"Palisade\" and \"2020\" are the values.\n",
        "\n"
      ],
      "metadata": {
        "id": "3CN4cA2AQduP"
      }
    },
    {
      "cell_type": "markdown",
      "source": [
        "Q.5. Why might you use a set instead of a list in Python ?\n",
        "\n",
        "Answer  - 1. Uniqueness of Elements :\n",
        "\n",
        " * Sets automatically remove duplicates.\n",
        "\n",
        " * If you need to store unique items, sets are ideal.\n",
        "\n",
        "2.Faster Membership Testing:\n",
        "\n",
        " * in is faster in sets (O(1) average time) vs lists (O(n)).\n",
        "\n",
        "3.Set Operations:\n",
        "\n",
        " * Sets support mathematical set operations: union, intersection, difference, etc.\n",
        "\n",
        "4.Cleaner Deduplication:\n",
        "\n",
        " * Sets provide a concise way to deduplicate a list.\n",
        "\n",
        "\n",
        "\n",
        "\n",
        "\n"
      ],
      "metadata": {
        "id": "Dya5cDnZQz3C"
      }
    },
    {
      "cell_type": "markdown",
      "source": [
        "Q.6. What is a string in Python, and how is it different from a list ?\n",
        "\n",
        "Answer - In Python, a string is a sequence of characters, while a list is a sequence of items (which can be of any type, including strings, numbers, etc.). Here's a breakdown of the key differences:\n",
        "\n",
        "(A) What is a string?\n",
        "\n",
        "* A string is a textual data type made up of Unicode characters.\n",
        "\n",
        "* Defined using quotes: 'hello' or \"hello\"\n",
        "\n",
        "(B) What is a list?\n",
        "\n",
        "* A list is a mutable sequence of elements, which can be of any type.\n",
        "\n",
        "* Defined using square brackets [].\n",
        "\n"
      ],
      "metadata": {
        "id": "iF4cbvqWS7Aw"
      }
    },
    {
      "cell_type": "markdown",
      "source": [
        "Q.7. How do tuples ensure data integrity in Python?\n",
        "\n",
        "Answer - Tuples ensure data integrity in Python primarily because they are immutable — once created, their contents cannot be changed. This immutability provides several advantages when it comes to ensuring the reliability and consistency of data.\n",
        "\n"
      ],
      "metadata": {
        "id": "Sq4SfW6zUOVv"
      }
    },
    {
      "cell_type": "markdown",
      "source": [
        "Q.8. What is a hash table, and how does it relate to dictionaries in Python ?\n",
        "\n",
        "Answer - A hash table is a data structure that allows for efficient storage and retrieval of data using a technique called hashing. It’s essentially a way to implement a key-value store where each key is hashed into an index, which determines where the corresponding value is stored in memory.\n",
        "\n",
        "* In Python, dictionaries are built on top of hash tables. This means that Python dictionaries (often referred to as dict) provide an efficient way to store and retrieve data based on unique"
      ],
      "metadata": {
        "id": "uDQByVQ8UjoQ"
      }
    },
    {
      "cell_type": "markdown",
      "source": [
        "Q.9. Can lists contain different data types in Python ?\n",
        "\n",
        "Answer - Yes, lists in Python can contain elements of different data types. This means you can have a single list that holds integers, floats, strings, booleans, and even other lists or dictionaries."
      ],
      "metadata": {
        "id": "U1X_MUuQVFob"
      }
    },
    {
      "cell_type": "markdown",
      "source": [
        "Q.10. Explain why strings are immutable in Python ?\n",
        "\n",
        "Answer - Here's why strings are designed to be immutable:\n",
        "\n",
        "(A)Memory Efficiency:\n",
        "Immutable strings can be efficiently shared and reused. Python can optimize memory usage by pointing multiple variables to the same string object if they have the same value. If strings were mutable, this optimization would not be possible, as changes to one variable would affect all others pointing to the same string.\n",
        "\n",
        "(B)Data Integrity:\n",
        "Immutability ensures that the value of a string remains consistent throughout the program. This makes it easier to reason about the code and prevents unexpected side effects. For example, if a function receives a string as an argument, it can rely on the fact that the string will not be modified by other parts of the program.\n",
        "\n",
        "(C)Security:\n",
        "Immutable strings prevent malicious users from altering strings that might be used for sensitive data, such as usernames or passwords.\n",
        "\n",
        "(D)Hashing:\n",
        "Immutable objects can be used as keys in dictionaries. Since strings are immutable, they can be used as dictionary keys, which allows efficient lookups.\n",
        "\n",
        "(E)Thread Safety:\n",
        "Immutable objects are inherently thread-safe. Multiple threads can access the same string object without the risk of data corruption."
      ],
      "metadata": {
        "id": "1hty9qTGVedb"
      }
    },
    {
      "cell_type": "markdown",
      "source": [
        "Q.11. What advantages do dictionaries offer over lists for certain tasks ?\n",
        "\n",
        "Answer - Dictionaries and lists are two fundamental data structures in Python, each with its unique strengths and weaknesses. Dictionaries excel in scenarios requiring fast lookups, key-value associations, and complex data mappings, while lists are ideal for ordered collections, sequential processing, and simple data storage."
      ],
      "metadata": {
        "id": "J-_JSL2vWVGY"
      }
    },
    {
      "cell_type": "markdown",
      "source": [
        "Q.12. Describe a scenario where using a tuple would be preferable over a list ?\n",
        "\n",
        "Answer : Tuples are immutable. Hence, they are primarily used to store data that doesn't change frequently. Any operation can store data in a tuple when you don't want it to change. Tuples are great to use if you want the data in your collection to be read-only, never to change, and always remain the same and constant."
      ],
      "metadata": {
        "id": "0f69aFbxF8Fz"
      }
    },
    {
      "cell_type": "markdown",
      "source": [
        "Q.13. How do sets handle duplicate values in Python ?\n",
        "\n",
        "Answer: In Python, sets are designed to store only unique elements. When you attempt to add a duplicate value to a set, it does not raise an error, but it simply ignores the duplicate, ensuring that the set retains only one instance of each distinct element. This behavior is inherent to the nature of sets as unordered collections of unique items.\n",
        "\n",
        "When creating a set from an iterable that contains duplicates, the set automatically removes them. For example:\n",
        "\n",
        "my_list = [1, 2, 2, 3, 4, 4, 5]\n",
        "\n",
        "my_set = set(my_list)\n",
        "\n",
        "print(my_set)  # Output: {1, 2, 3, 4, 5}\n",
        "\n",
        "In this example, the resulting set my_set contains only the unique elements from my_list, with the duplicate 2s and 4s removed. This feature makes sets a convenient tool for eliminating duplicates from other data structures like lists or tuples."
      ],
      "metadata": {
        "id": "jidDNGi3GlVI"
      }
    },
    {
      "cell_type": "markdown",
      "source": [
        "Q.14. How does the “in” keyword work differently for lists and dictionaries ?\n",
        "\n",
        "Answer - The \"in\" keyword in Python is used to check for membership within a sequence or collection. While its fundamental purpose remains the same – to determine if an element is present – its behavior differs slightly between lists and dictionaries due to their underlying data structures and how they store and retrieve information.\n",
        "\n",
        "\n",
        "Here's a breakdown of how \"in\" works for lists and dictionaries:\n",
        "\n",
        "(A) \"in\" for Lists:\n",
        "\n",
        "* When we  use \"in\" with a list, Python checks if the specified element exists as one of the values within the list. It performs a sequential search, iterating through each item in the list until it finds a match or reaches the end.\n",
        "\n",
        "(B) \"in\" for Dictionaries:\n",
        "\n",
        "* When you use \"in\" with a dictionary, Python checks if the specified element exists as one of the keys within the dictionary. It does not directly check for values.\n",
        "\n"
      ],
      "metadata": {
        "id": "K5oMtOIZHWEE"
      }
    },
    {
      "cell_type": "markdown",
      "source": [
        "Q.15. Can you modify the elements of a tuple? Explain why or why not .\n",
        "\n",
        "Answewr: No, you cannot directly modify the elements of a tuple after it has been created. Tuples are immutable data structures, meaning their contents cannot be changed, added to, or removed from once they are defined. This immutability ensures that the data within a tuple remains consistent and predictable throughout its lifetime.\n",
        "\n",
        "Explanation:\n",
        "\n",
        "* Immutability: Tuples are designed to be immutable, which is a fundamental characteristic.\n",
        "\n",
        "* No built-in modification methods: Unlike lists, tuples do not have built-in methods for modifying their contents, such as append(), insert(), or remove().\n",
        "\n",
        "* Trying to modify a tuple results in an error: Attempting to change an element of a tuple will raise a TypeError.\n",
        "\n",
        "Why Tuples are Immutable:\n",
        "\n",
        "* Consistency and Predictability:\n",
        "Immutability ensures that the values within a tuple remain consistent, making them reliable for situations where data integrity is crucial.\n",
        "\n",
        "* Efficiency:\n",
        "Since tuples are immutable, their memory addresses remain constant, allowing for efficient access and iteration.\n",
        "\n",
        "* Use Cases:\n",
        "Tuples are well-suited for applications like representing fixed sets of data, such as coordinates, records, or keys in dictionaries."
      ],
      "metadata": {
        "id": "f1n9N0AOJFDt"
      }
    },
    {
      "cell_type": "markdown",
      "source": [
        "Q.16. What is a nested dictionary, and give an example of its use case ?\n",
        "\n",
        "Answer: A nested dictionary in Python is a dictionary where the values are themselves dictionaries. This allows you to create hierarchical or multi-level data structures, where each dictionary can contain other dictionaries as its values.\n",
        "\n",
        "Example:\n",
        "\n",
        " #Outer dictionary\n",
        "\n",
        "employees = {\n",
        "    \"department1\": {\n",
        "        \"employee1\": {\"name\": \"Alice\", \"position\": \"Software Engineer\"},\n",
        "        \"employee2\": {\"name\": \"Bob\", \"position\": \"Data Analyst\"}\n",
        "    },\n",
        "    \"department2\": {\n",
        "        \"employee3\": {\"name\": \"Charlie\", \"position\": \"Project Manager\"},\n",
        "        \"employee4\": {\"name\": \"David\", \"position\": \"UI/UX Designer\"}\n",
        "    }\n",
        "}\n",
        "\n",
        " #Accessing nested values:\n",
        "\n",
        "print(employees[\"department1\"][\"employee1\"][\"name\"]) # Output: Alice\n",
        "print(employees[\"department2\"][\"employee3\"][\"position\"]) # Output: project manager\n",
        "\n",
        "* In this example:\n",
        "\n",
        "employees is the outer dictionary.\n",
        "\n",
        "The values of employees (department1, department2) are also dictionaries.\n",
        "\n",
        "Each of those inner dictionaries contains dictionaries as values (employee1, employee2, etc.), representing employee information.\n",
        "\n",
        "We can access specific information (like an employee's name or position) by chaining the keys: employees[department][employee][attribute]."
      ],
      "metadata": {
        "id": "5-S3tCpuKUHg"
      }
    },
    {
      "cell_type": "markdown",
      "source": [
        "Q.17. Describe the time complexity of accessing elements in a dictionary ?\n",
        "\n",
        "Answer: Accessing an element in a dictionary typically has an average time complexity of O(1), meaning it takes constant time regardless of the dictionary's size. This is due to the use of a hash table, which allows for direct lookup of elements based on their key. In the worst-case scenario, where a hash function causes many collisions, the time complexity can degrade to O(n), where n is the number of elements in the dictionary.\n",
        "\n",
        "Here's a more detailed explanation:\n",
        "\n",
        "- O(1) - Average Case:\n",
        "Dictionaries use a hash table, which is an array-like structure that uses a hash function to map keys to specific indices (or \"buckets\") within the array. When accessing an element, the dictionary calculates the hash value for the key and uses it to directly locate the corresponding value in the hash table. This direct access is what gives dictionaries their constant time lookup performance.\n",
        "\n",
        "- O(n) - Worst Case:\n",
        "In the worst-case scenario, a hash function might map multiple keys to the same bucket, leading to collisions. When a collision occurs, the dictionary needs to search within that bucket (which could be implemented as a linked list or other data structure) to find the desired value. If there are many collisions, this search can become linear, resulting in an O(n) time complexity.\n",
        "\n",
        "- Practical Considerations:\n",
        "While the worst-case O(n) complexity is theoretically possible, it is uncommon in practice with good hash functions and well-designed dictionaries.\n",
        "\n",
        "- Key-Based Access:\n",
        "Dictionaries are designed for fast access of elements based on their keys, making them ideal for situations where you need to retrieve a value associated with a specific key quickly."
      ],
      "metadata": {
        "id": "A4YbtTPwOPMz"
      }
    },
    {
      "cell_type": "markdown",
      "source": [
        "Q.18. In what situations are lists preferred over dictionaries ?\n",
        "\n",
        "Answer: For quick data look-ups, configurations, or caches, favor dictionaries. For ordered collections and sequence operations, such as maintaining a stack or queue, lists are more suitable."
      ],
      "metadata": {
        "id": "9yP2hwLYPrGQ"
      }
    },
    {
      "cell_type": "markdown",
      "source": [
        "Q.19. Why are dictionaries considered unordered, and how does that affect data retrieval ?\n",
        "\n",
        "Answer: Why dictionaries are unordered collection: Dictionary is a data structure which is a important value structure, optimized for fast storage and recovery based on key. In python, dictionaries are un-ordered because Python dictionaries are not intended to be in order, as simple as that.\n",
        "\n",
        "How does this affect data retrieval now?\n",
        "\n",
        "Insertion order is preserved: When you iterate through a dictionary's keys, values, or items, they will always appear in the order they were added.\n",
        "\n",
        "Predictable iteration: This makes iterating over dictionaries much more predictable and useful for maintaining specific sequences of data.\n",
        "\n",
        "Still not \"ordered\" in the list sense: While insertion order is preserved, dictionaries are not ordered in the same way lists are.\n",
        "\n",
        "You cannot access elements by integer index (e.g., my_dict[0] will raise a KeyError unless 0 is an actual key).\n",
        "\n",
        "You cannot slice a dictionary like my_dict[1:3].\n",
        "\n",
        "The concept of \"sorted order\" (alphabetical keys, numerical values) still requires explicit sorting (e.g., sorted(my_dict.items())). The insertion order is simply the order of addition, not necessarily a sorted order.\n",
        "\n"
      ],
      "metadata": {
        "id": "CF7pX0bkQAUd"
      }
    },
    {
      "cell_type": "markdown",
      "source": [
        "Q.20. Explain the difference between a list and a dictionary in terms of data retrieval.\n",
        "\n",
        "Answer: In terms of data retrieval, lists are accessed by index, while dictionaries are accessed by key. This means that to retrieve a specific element from a list, you use its numerical position (starting from 0), whereas for a dictionary, you use the associated key to find the corresponding value.\n",
        "\n",
        "Here's a more detailed explanation:\n",
        "\n",
        "* Lists:\n",
        "* Lists are ordered sequences of elements, where each element has a specific position or index.\n",
        "\n",
        "* Elements are accessed using their index, starting from 0 for the first element, 1 for the second, and so on.\n",
        "\n",
        "* For example, to retrieve the 3rd element of a list, you would use the index 2.\n",
        "* Dictionaries:\n",
        "* Dictionaries are collections of key-value pairs, where each key must be unique.\n",
        "*Elements (values) are accessed by their corresponding keys.\n",
        "Keys can be of various data types, not just integers like in lists.\n",
        "\n",
        "* For example, to retrieve the value associated with the key \"name\", you would use the key \"name\"."
      ],
      "metadata": {
        "id": "xQg8k7UCRNgJ"
      }
    },
    {
      "cell_type": "markdown",
      "source": [
        "# Practical"
      ],
      "metadata": {
        "id": "zcUI3Q4SSmmQ"
      }
    },
    {
      "cell_type": "markdown",
      "source": [
        "Q.1.Write a code to create a string with your name and print it ."
      ],
      "metadata": {
        "id": "GWNGpKpGS-j7"
      }
    },
    {
      "cell_type": "code",
      "source": [
        "my_name = \"Soheb\"\n",
        "print(my_name)\n"
      ],
      "metadata": {
        "colab": {
          "base_uri": "https://localhost:8080/"
        },
        "id": "sYltmTaxTMFJ",
        "outputId": "d4eb016d-82f8-41b0-f0af-5054cf101657"
      },
      "execution_count": null,
      "outputs": [
        {
          "output_type": "stream",
          "name": "stdout",
          "text": [
            "Soheb\n"
          ]
        }
      ]
    },
    {
      "cell_type": "markdown",
      "source": [
        "Q.2. Write a code to find the length of the string \"Hello World\"."
      ],
      "metadata": {
        "id": "q6t2yUMGUFMf"
      }
    },
    {
      "cell_type": "code",
      "source": [
        "string = \"hello world\"\n",
        "length = len(string)\n",
        "print(length)"
      ],
      "metadata": {
        "colab": {
          "base_uri": "https://localhost:8080/"
        },
        "id": "ekrCBxfDULL3",
        "outputId": "7c1407b3-371c-4ffa-e172-143d20cefeec"
      },
      "execution_count": null,
      "outputs": [
        {
          "output_type": "stream",
          "name": "stdout",
          "text": [
            "11\n"
          ]
        }
      ]
    },
    {
      "cell_type": "markdown",
      "source": [
        "Q.3.Write a code to slice the first 3 characters from the string \"Python Programming\"."
      ],
      "metadata": {
        "id": "ClUinDPcUUxr"
      }
    },
    {
      "cell_type": "code",
      "source": [
        "string = \"Python Programming\"\n",
        "sliced_string = string[:3]\n",
        "print(sliced_string)"
      ],
      "metadata": {
        "colab": {
          "base_uri": "https://localhost:8080/"
        },
        "id": "dlaSFcyFUbRR",
        "outputId": "09e39767-16c8-4739-87fa-41260082f2af"
      },
      "execution_count": null,
      "outputs": [
        {
          "output_type": "stream",
          "name": "stdout",
          "text": [
            "Pyt\n"
          ]
        }
      ]
    },
    {
      "cell_type": "markdown",
      "source": [
        "Q.4. Write a code to convert the string \"hello\" to uppercase ."
      ],
      "metadata": {
        "id": "6UdWeC_KUjCE"
      }
    },
    {
      "cell_type": "code",
      "source": [
        "original_string = \"hello\"\n",
        "uppercase_string = original_string.upper()\n",
        "print(uppercase_string)"
      ],
      "metadata": {
        "colab": {
          "base_uri": "https://localhost:8080/"
        },
        "id": "4wj_aLJ0Ls0g",
        "outputId": "496a07b9-dfa2-45a2-e70d-e8e86e7f91bf"
      },
      "execution_count": 1,
      "outputs": [
        {
          "output_type": "stream",
          "name": "stdout",
          "text": [
            "HELLO\n"
          ]
        }
      ]
    },
    {
      "cell_type": "markdown",
      "source": [
        "Q.5. Write a code to replace the word \"apple\" with \"orange\" in the string \"I like apple\"."
      ],
      "metadata": {
        "id": "FeMIl2SHL5go"
      }
    },
    {
      "cell_type": "code",
      "source": [
        "original_string = \"I like apple\"\n",
        "word_to_replace = \"apple\"\n",
        "replacement_word = \"orange\"\n",
        "new_string = original_string.replace(word_to_replace, replacement_word)\n",
        "print(f\"Original string: {original_string}\")\n",
        "print(f\"New string: {new_string}\")\n"
      ],
      "metadata": {
        "colab": {
          "base_uri": "https://localhost:8080/"
        },
        "id": "DDnX9fwVMeys",
        "outputId": "e41f6bc2-6723-4c1b-bec4-f042a5942ec8"
      },
      "execution_count": 2,
      "outputs": [
        {
          "output_type": "stream",
          "name": "stdout",
          "text": [
            "Original string: I like apple\n",
            "New string: I like orange\n"
          ]
        }
      ]
    },
    {
      "cell_type": "markdown",
      "source": [
        "Q.6. Write a code to create a list with numbers 1 to 5 and print it ."
      ],
      "metadata": {
        "id": "LXM4Ard3M0cP"
      }
    },
    {
      "cell_type": "code",
      "source": [
        "my_list = [1,2,3,4,5]\n",
        "print(my_list)\n",
        "print(\"\\nPrinting each element in the list:\")\n",
        "for number in my_list:\n",
        "    print(number)\n"
      ],
      "metadata": {
        "colab": {
          "base_uri": "https://localhost:8080/"
        },
        "id": "b6kItp3YM6HA",
        "outputId": "5c782a3a-3265-4f35-843c-92dabe2c1ca6"
      },
      "execution_count": 4,
      "outputs": [
        {
          "output_type": "stream",
          "name": "stdout",
          "text": [
            "[1, 2, 3, 4, 5]\n",
            "\n",
            "Printing each element in the list:\n",
            "1\n",
            "2\n",
            "3\n",
            "4\n",
            "5\n"
          ]
        }
      ]
    },
    {
      "cell_type": "markdown",
      "source": [
        "Q.7. Write a code to append the number 10 to the list [1, 2, 3, 4]."
      ],
      "metadata": {
        "id": "5m3tepM8NhDy"
      }
    },
    {
      "cell_type": "code",
      "source": [
        "my_list = [1,2,3,4]\n",
        "print(f\"Original list: {my_list}\")\n",
        "my_list.append(10)\n",
        "print(f\"List after appending 10: {my_list}\")"
      ],
      "metadata": {
        "colab": {
          "base_uri": "https://localhost:8080/"
        },
        "id": "eBEPcxvwNnca",
        "outputId": "7f62690e-bee4-49b4-81db-907f0fc34eea"
      },
      "execution_count": 5,
      "outputs": [
        {
          "output_type": "stream",
          "name": "stdout",
          "text": [
            "Original list: [1, 2, 3, 4]\n",
            "List after appending 10: [1, 2, 3, 4, 10]\n"
          ]
        }
      ]
    },
    {
      "cell_type": "markdown",
      "source": [
        "Q.8.Write a code to remove the number 3 from the list [1, 2, 3, 4, 5]."
      ],
      "metadata": {
        "id": "9lBuLFGiONkk"
      }
    },
    {
      "cell_type": "code",
      "source": [
        "my_list = [1,2,3,4]\n",
        "print(f\"Original list: {my_list}\")\n",
        "my_list.remove(3)\n",
        "print(f\"List after removing 3: {my_list}\")"
      ],
      "metadata": {
        "colab": {
          "base_uri": "https://localhost:8080/"
        },
        "id": "eONwadfDOVJ_",
        "outputId": "cee58f20-9c0a-49a3-beb0-6453ac26fe1b"
      },
      "execution_count": 6,
      "outputs": [
        {
          "output_type": "stream",
          "name": "stdout",
          "text": [
            "Original list: [1, 2, 3, 4]\n",
            "List after removing 3: [1, 2, 4]\n"
          ]
        }
      ]
    },
    {
      "cell_type": "markdown",
      "source": [
        "Q.9. Write a code to access the second element in the list ['a', 'b', 'c', 'd']."
      ],
      "metadata": {
        "id": "6qxGFhEfO7vy"
      }
    },
    {
      "cell_type": "code",
      "source": [
        "my_list = ['a', 'b', 'c', 'd']\n",
        "print(f\"Original list: {my_list}\")\n",
        "second_element = my_list[1]\n",
        "print(f\"The second element of the list is: {second_element}\")\n"
      ],
      "metadata": {
        "colab": {
          "base_uri": "https://localhost:8080/"
        },
        "id": "3U2zOQXuPB-4",
        "outputId": "19639ea6-0fda-4da3-f9fb-24cc24428f6e"
      },
      "execution_count": 8,
      "outputs": [
        {
          "output_type": "stream",
          "name": "stdout",
          "text": [
            "Original list: ['a', 'b', 'c', 'd']\n",
            "The second element of the list is: b\n"
          ]
        }
      ]
    },
    {
      "cell_type": "markdown",
      "source": [
        "Q.10. Write a code to reverse the list [10, 20, 30, 40, 50]."
      ],
      "metadata": {
        "id": "FFL4yhSAPhXp"
      }
    },
    {
      "cell_type": "code",
      "source": [
        "my_list = [10, 20, 30, 40, 50]\n",
        "print(f\"Original list: {my_list}\")\n",
        "my_list.reverse()\n",
        "print(f\"List after in-place reversal (using .reverse()): {my_list}\")\n"
      ],
      "metadata": {
        "colab": {
          "base_uri": "https://localhost:8080/"
        },
        "id": "3J8OHrIOPmAg",
        "outputId": "ab41b921-4a21-4398-d376-99815e43cc26"
      },
      "execution_count": 10,
      "outputs": [
        {
          "output_type": "stream",
          "name": "stdout",
          "text": [
            "Original list: [10, 20, 30, 40, 50]\n",
            "List after in-place reversal (using .reverse()): [50, 40, 30, 20, 10]\n"
          ]
        }
      ]
    },
    {
      "cell_type": "markdown",
      "source": [
        "Q.11. Write a code to create a tuple with the elements 100, 200, 300 and print it ."
      ],
      "metadata": {
        "id": "mZMjoB5TQSCV"
      }
    },
    {
      "cell_type": "code",
      "source": [
        "my_tuple = (100, 200, 300)\n",
        "print(my_tuple)"
      ],
      "metadata": {
        "colab": {
          "base_uri": "https://localhost:8080/"
        },
        "id": "Mh8F5zMBQYx2",
        "outputId": "1a6b0221-9463-4367-f654-07f190a91587"
      },
      "execution_count": 11,
      "outputs": [
        {
          "output_type": "stream",
          "name": "stdout",
          "text": [
            "(100, 200, 300)\n"
          ]
        }
      ]
    },
    {
      "cell_type": "markdown",
      "source": [
        "Q.12. Write a code to access the second-to-last element of the tuple ('red', 'green', 'blue', 'yellow')."
      ],
      "metadata": {
        "id": "OSbdBu__Qs8h"
      }
    },
    {
      "cell_type": "code",
      "source": [
        "my_tuple = ('red', 'green', 'blue', 'yellow')\n",
        "print(f\"Original tuple: {my_tuple}\")\n",
        "second_to_last_element = my_tuple[-2]\n",
        "print(f\"The second-to-last element of the tuple is: {second_to_last_element}\")\n"
      ],
      "metadata": {
        "colab": {
          "base_uri": "https://localhost:8080/"
        },
        "id": "vd_OKkKZQx4E",
        "outputId": "fce6b0b5-2ff9-4216-9838-0ddb76145673"
      },
      "execution_count": 12,
      "outputs": [
        {
          "output_type": "stream",
          "name": "stdout",
          "text": [
            "Original tuple: ('red', 'green', 'blue', 'yellow')\n",
            "The second-to-last element of the tuple is: blue\n"
          ]
        }
      ]
    },
    {
      "cell_type": "markdown",
      "source": [
        "Q.13. Write a code to find the minimum number in the tuple (10, 20, 5, 15)."
      ],
      "metadata": {
        "id": "BCVCLPCQRFB5"
      }
    },
    {
      "cell_type": "code",
      "source": [
        "my_numbers_tuple = (10, 20, 5, 15)\n",
        "print(f\"Original tuple: {my_numbers_tuple}\")\n",
        "minimum_number = min(my_numbers_tuple)\n",
        "print(f\"The minimum number in the tuple is: {minimum_number}\")"
      ],
      "metadata": {
        "colab": {
          "base_uri": "https://localhost:8080/"
        },
        "id": "RFPS4fo4RKnd",
        "outputId": "fd553ca3-336f-4fd6-8c76-eec11bd40ae7"
      },
      "execution_count": 13,
      "outputs": [
        {
          "output_type": "stream",
          "name": "stdout",
          "text": [
            "Original tuple: (10, 20, 5, 15)\n",
            "The minimum number in the tuple is: 5\n"
          ]
        }
      ]
    },
    {
      "cell_type": "markdown",
      "source": [
        "Q.14. Write a code to find the index of the element \"cat\" in the tuple ('dog', 'cat', 'rabbit')."
      ],
      "metadata": {
        "id": "3uY2WjRoRWuu"
      }
    },
    {
      "cell_type": "code",
      "source": [
        "my_animals_tuple = ('dog', 'cat', 'rabbit')\n",
        "print(f\"Original tuple: {my_animals_tuple}\")\n",
        "element_to_find = 'cat'\n",
        "try:\n",
        "    index_of_cat = my_animals_tuple.index(element_to_find)\n",
        "    print(f\"The element '{element_to_find}' is found at index: {index_of_cat}\")\n",
        "except ValueError:\n",
        "    print(f\"The element '{element_to_find}' was not found in the tuple.\")\n"
      ],
      "metadata": {
        "colab": {
          "base_uri": "https://localhost:8080/"
        },
        "id": "2Kti-WIHRcdK",
        "outputId": "a1577240-09c4-411c-97a4-00c6f739a6d8"
      },
      "execution_count": 14,
      "outputs": [
        {
          "output_type": "stream",
          "name": "stdout",
          "text": [
            "Original tuple: ('dog', 'cat', 'rabbit')\n",
            "The element 'cat' is found at index: 1\n"
          ]
        }
      ]
    },
    {
      "cell_type": "markdown",
      "source": [
        "Q.15. Write a code to create a tuple containing three different fruits and check if \"kiwi\" is in it."
      ],
      "metadata": {
        "id": "BLdanygpR1aI"
      }
    },
    {
      "cell_type": "code",
      "source": [
        "my_fruits_tuple = ('apple', 'banana', 'orange')\n",
        "print(f\"Original tuple: {my_fruits_tuple}\")\n",
        "element_to_check = 'kiwi'\n",
        "if element_to_check in my_fruits_tuple:\n",
        "    print(f\"The element '{element_to_check}' is in the tuple.\")\n",
        "    index_of_kiwi = my_fruits_tuple.index(element_to_check)\n",
        "    print(f\"The element '{element_to_check}' is found at index: {index_of_kiwi}\")\n",
        "else:\n",
        "    print(f\"The element '{element_to_check}' was not found in the tuple.\")"
      ],
      "metadata": {
        "colab": {
          "base_uri": "https://localhost:8080/"
        },
        "id": "iMhDFThTR9HX",
        "outputId": "a6f467bf-2d0a-4e86-8a7a-14bb8113dea7"
      },
      "execution_count": 16,
      "outputs": [
        {
          "output_type": "stream",
          "name": "stdout",
          "text": [
            "Original tuple: ('apple', 'banana', 'orange')\n",
            "The element 'kiwi' was not found in the tuple.\n"
          ]
        }
      ]
    },
    {
      "cell_type": "markdown",
      "source": [
        "Q.16. Write a code to create a set with the elements 'a', 'b', 'c' and print it."
      ],
      "metadata": {
        "id": "3j6s4J7vSnza"
      }
    },
    {
      "cell_type": "code",
      "source": [
        "my_set = {'a', 'b', 'c'}\n",
        "print(my_set)"
      ],
      "metadata": {
        "colab": {
          "base_uri": "https://localhost:8080/"
        },
        "id": "pVUw0omCSsoR",
        "outputId": "4f3c9e93-0d0a-4905-dd1a-4f28f05bc510"
      },
      "execution_count": 18,
      "outputs": [
        {
          "output_type": "stream",
          "name": "stdout",
          "text": [
            "{'a', 'c', 'b'}\n"
          ]
        }
      ]
    },
    {
      "cell_type": "markdown",
      "source": [
        "Q.17. Write a code to clear all elements from the set {1, 2, 3, 4, 5}."
      ],
      "metadata": {
        "id": "CIqwHQbMS_UP"
      }
    },
    {
      "cell_type": "code",
      "source": [
        "my_set = {1, 2, 3, 4, 5}\n",
        "print(f\"Original set: {my_set}\")\n",
        "my_set.clear()\n",
        "print(f\"Set after clearing all elements: {my_set}\")\n",
        "#"
      ],
      "metadata": {
        "colab": {
          "base_uri": "https://localhost:8080/"
        },
        "id": "yLrNP6-WTE67",
        "outputId": "7573067e-4d62-48ab-802a-a1b67ced0b4a"
      },
      "execution_count": 19,
      "outputs": [
        {
          "output_type": "stream",
          "name": "stdout",
          "text": [
            "Original set: {1, 2, 3, 4, 5}\n",
            "Set after clearing all elements: set()\n"
          ]
        }
      ]
    },
    {
      "cell_type": "markdown",
      "source": [
        "Q.18.Write a code to remove the element 4 from the set {1, 2, 3, 4}."
      ],
      "metadata": {
        "id": "AtgVWaAQTPJE"
      }
    },
    {
      "cell_type": "code",
      "source": [
        "my_set = {1, 2, 3, 4}\n",
        "print(f\"Original set: {my_set}\")\n",
        "element_to_remove = 4\n",
        "my_set.remove(element_to_remove)\n",
        "print(f\"Set after removing element {element_to_remove}: {my_set}\")"
      ],
      "metadata": {
        "colab": {
          "base_uri": "https://localhost:8080/"
        },
        "id": "svNYAH14TTgf",
        "outputId": "4f2cffef-1d36-44d0-ff28-9832f3343667"
      },
      "execution_count": 21,
      "outputs": [
        {
          "output_type": "stream",
          "name": "stdout",
          "text": [
            "Original set: {1, 2, 3, 4}\n",
            "Set after removing element 4: {1, 2, 3}\n"
          ]
        }
      ]
    },
    {
      "cell_type": "markdown",
      "source": [
        "Q.19. Write a code to find the union of two sets {1, 2, 3} and {3, 4, 5}."
      ],
      "metadata": {
        "id": "1FEOb9eFT3i0"
      }
    },
    {
      "cell_type": "code",
      "source": [
        "set1 = {1, 2, 3}\n",
        "set2 = {3, 4, 5}\n",
        "union_set = set1.union(set2)\n",
        "print(f\"Set 1: {set1}\")\n",
        "print(f\"Set 2: {set2}\")\n",
        "print(f\"Union of Set 1 and Set 2: {union_set}\")\n"
      ],
      "metadata": {
        "colab": {
          "base_uri": "https://localhost:8080/"
        },
        "id": "xJz9BYRlUAq0",
        "outputId": "760f9fa9-3d82-4f19-cff8-ad91771e8f00"
      },
      "execution_count": 22,
      "outputs": [
        {
          "output_type": "stream",
          "name": "stdout",
          "text": [
            "Set 1: {1, 2, 3}\n",
            "Set 2: {3, 4, 5}\n",
            "Union of Set 1 and Set 2: {1, 2, 3, 4, 5}\n"
          ]
        }
      ]
    },
    {
      "cell_type": "markdown",
      "source": [
        "Q.20. Write a code to find the intersection of two sets {1, 2, 3} and {2, 3, 4}."
      ],
      "metadata": {
        "id": "EWNOmnLYUnyd"
      }
    },
    {
      "cell_type": "code",
      "source": [
        "set1 = {1,2,3}\n",
        "set2 = {2,3,4}\n",
        "intersection_set = set1.intersection(set2)\n",
        "print(f\"Set 1: {set1}\")\n",
        "print(f\"Set 2: {set2}\")\n",
        "print(f\"Intersection of Set 1 and Set 2: {intersection_set}\")\n",
        "#"
      ],
      "metadata": {
        "colab": {
          "base_uri": "https://localhost:8080/"
        },
        "id": "NQbe8VtMUxLj",
        "outputId": "b348f877-1c1a-4918-fc9f-92302895e994"
      },
      "execution_count": 23,
      "outputs": [
        {
          "output_type": "stream",
          "name": "stdout",
          "text": [
            "Set 1: {1, 2, 3}\n",
            "Set 2: {2, 3, 4}\n",
            "Intersection of Set 1 and Set 2: {2, 3}\n"
          ]
        }
      ]
    },
    {
      "cell_type": "markdown",
      "source": [
        "Q.21. Write a code to create a dictionary with the keys \"name\", \"age\", and \"city\", and print it."
      ],
      "metadata": {
        "id": "42k2OALtVNud"
      }
    },
    {
      "cell_type": "code",
      "source": [
        "my_dictionary = {\n",
        "    \"name\": \"Soheb\",\n",
        "    \"age\": 25,\n",
        "    \"city\": \"Bhadrak\"\n",
        "}\n",
        "print(f\"The created dictionary is: {my_dictionary}\")"
      ],
      "metadata": {
        "colab": {
          "base_uri": "https://localhost:8080/"
        },
        "id": "6eVIt0ACVSN3",
        "outputId": "3d6ebbc2-8787-418a-ec64-e66e2c2e3db4"
      },
      "execution_count": 24,
      "outputs": [
        {
          "output_type": "stream",
          "name": "stdout",
          "text": [
            "The created dictionary is: {'name': 'Soheb', 'age': 25, 'city': 'Bhadrak'}\n"
          ]
        }
      ]
    },
    {
      "cell_type": "markdown",
      "source": [
        "Q.22. Write a code to add a new key-value pair \"country\": \"USA\" to the dictionary {'name': 'John', 'age': 25}."
      ],
      "metadata": {
        "id": "l_phghe3V1kL"
      }
    },
    {
      "cell_type": "code",
      "source": [
        "my_dictionary = {\n",
        "    'name': 'John',\n",
        "    'age': 25\n",
        "}\n",
        "print(f\"Original dictionary: {my_dictionary}\")\n",
        "my_dictionary[\"country\"] = \"USA\"\n",
        "print(f\"Dictionary after adding 'country': 'USA': {my_dictionary}\")\n"
      ],
      "metadata": {
        "colab": {
          "base_uri": "https://localhost:8080/"
        },
        "id": "1V_6YOFDV8ld",
        "outputId": "21bf44ee-d7c0-42e4-f5b4-735348b6d69e"
      },
      "execution_count": 25,
      "outputs": [
        {
          "output_type": "stream",
          "name": "stdout",
          "text": [
            "Original dictionary: {'name': 'John', 'age': 25}\n",
            "Dictionary after adding 'country': 'USA': {'name': 'John', 'age': 25, 'country': 'USA'}\n"
          ]
        }
      ]
    },
    {
      "cell_type": "markdown",
      "source": [
        "Q.23.  Write a code to access the value associated with the key \"name\" in the dictionary {'name': 'Alice', 'age': 30}."
      ],
      "metadata": {
        "id": "k7JCTd6NWa_Y"
      }
    },
    {
      "cell_type": "code",
      "source": [
        "my_dictionary = {\n",
        "    'name': 'Alice',\n",
        "    'age': 30\n",
        "}\n",
        "print(f\"Original dictionary: {my_dictionary}\")\n",
        "name_value = my_dictionary['name']\n",
        "print(f\"The value associated with the key 'name' is: {name_value}\")\n",
        "#"
      ],
      "metadata": {
        "colab": {
          "base_uri": "https://localhost:8080/"
        },
        "id": "F6jjFdt2Wgt4",
        "outputId": "290f9e46-876e-4c92-90a2-f0336ed674ad"
      },
      "execution_count": 26,
      "outputs": [
        {
          "output_type": "stream",
          "name": "stdout",
          "text": [
            "Original dictionary: {'name': 'Alice', 'age': 30}\n",
            "The value associated with the key 'name' is: Alice\n"
          ]
        }
      ]
    },
    {
      "cell_type": "markdown",
      "source": [
        "Q.24.Write a code to remove the key \"age\" from the dictionary {'name': 'Bob', 'age': 22, 'city': 'New York'}."
      ],
      "metadata": {
        "id": "JLSOtaYcW21g"
      }
    },
    {
      "cell_type": "code",
      "source": [
        "my_dictionary = {\n",
        "    'name': 'Bob',\n",
        "    'age': 22,\n",
        "    'city': 'New York'\n",
        "}\n",
        "print(f\"Original dictionary: {my_dictionary}\")\n",
        "my_dictionary.pop('age')\n",
        "print(f\"Dictionary after removing the key 'age': {my_dictionary}\")\n",
        "#\n"
      ],
      "metadata": {
        "colab": {
          "base_uri": "https://localhost:8080/"
        },
        "id": "bPA9PnugW_Ty",
        "outputId": "bf2410ab-c0e7-472f-8343-986cbdb612aa"
      },
      "execution_count": 27,
      "outputs": [
        {
          "output_type": "stream",
          "name": "stdout",
          "text": [
            "Original dictionary: {'name': 'Bob', 'age': 22, 'city': 'New York'}\n",
            "Dictionary after removing the key 'age': {'name': 'Bob', 'city': 'New York'}\n"
          ]
        }
      ]
    },
    {
      "cell_type": "markdown",
      "source": [
        "Q.25.  Write a code to check if the key \"city\" exists in the dictionary {'name': 'Alice', 'city': 'Paris'}."
      ],
      "metadata": {
        "id": "rK_XU72zXSNT"
      }
    },
    {
      "cell_type": "code",
      "source": [
        "my_dictionary = {\n",
        "    'name': 'Alice',\n",
        "    'city': 'Paris'\n",
        "}\n",
        "print(f\"Original dictionary: {my_dictionary}\")\n",
        "key_to_check = 'city'\n",
        "if key_to_check in my_dictionary:\n",
        "    print(f\"The key '{key_to_check}' exists in the dictionary.\")"
      ],
      "metadata": {
        "colab": {
          "base_uri": "https://localhost:8080/"
        },
        "id": "mTpaXBN4XXXx",
        "outputId": "801d5165-2c8d-4670-8981-d4ea746ad727"
      },
      "execution_count": 28,
      "outputs": [
        {
          "output_type": "stream",
          "name": "stdout",
          "text": [
            "Original dictionary: {'name': 'Alice', 'city': 'Paris'}\n",
            "The key 'city' exists in the dictionary.\n"
          ]
        }
      ]
    },
    {
      "cell_type": "markdown",
      "source": [
        "Q.26. Write a code to create a list, a tuple, and a dictionary, and print them all."
      ],
      "metadata": {
        "id": "tMH2TNwfXfYy"
      }
    },
    {
      "cell_type": "code",
      "source": [
        "my_list = [1, 2, 3, 4, 5]\n",
        "my_tuple = (10, 20, 30, 40, 50)\n",
        "my_dictionary = {\n",
        "    'name': 'John',\n",
        "    'age': 25,\n",
        "    'city': 'New York'\n",
        "}\n",
        "print(f\"List: {my_list}\")\n",
        "print(f\"Tuple: {my_tuple}\")\n",
        "print(f\"Dictionary: {my_dictionary}\")\n",
        "#\n"
      ],
      "metadata": {
        "colab": {
          "base_uri": "https://localhost:8080/"
        },
        "id": "0xzd464zXlaf",
        "outputId": "35e2c4b3-f0e0-45b4-bc85-b6474862deb6"
      },
      "execution_count": 29,
      "outputs": [
        {
          "output_type": "stream",
          "name": "stdout",
          "text": [
            "List: [1, 2, 3, 4, 5]\n",
            "Tuple: (10, 20, 30, 40, 50)\n",
            "Dictionary: {'name': 'John', 'age': 25, 'city': 'New York'}\n"
          ]
        }
      ]
    },
    {
      "cell_type": "markdown",
      "source": [
        "Q.27. Write a code to create a list of 5 random numbers between 1 and 100, sort it in ascending order, and print the result."
      ],
      "metadata": {
        "id": "77ZYP7CyYGaV"
      }
    },
    {
      "cell_type": "code",
      "source": [
        "import random\n",
        "random_numbers = [random.randint(1, 100) for _ in range(5)]\n",
        "print(f\"Original list of random numbers: {random_numbers}\")\n",
        "random_numbers.sort()\n",
        "print(f\"List after sorting in ascending order: {random_numbers}\")\n",
        "#\n"
      ],
      "metadata": {
        "colab": {
          "base_uri": "https://localhost:8080/"
        },
        "id": "nuq_of2uYXlt",
        "outputId": "576e34e2-30bf-40e6-a99a-094ccec9a932"
      },
      "execution_count": 30,
      "outputs": [
        {
          "output_type": "stream",
          "name": "stdout",
          "text": [
            "Original list of random numbers: [99, 64, 16, 67, 23]\n",
            "List after sorting in ascending order: [16, 23, 64, 67, 99]\n"
          ]
        }
      ]
    },
    {
      "cell_type": "markdown",
      "source": [
        "Q.28.  Write a code to create a list with strings and print the element at the third index."
      ],
      "metadata": {
        "id": "mkKYCU_mZNFJ"
      }
    },
    {
      "cell_type": "code",
      "source": [
        "my_list = ['apple', 'banana', 'cherry', 'date', 'elderberry']\n",
        "print(f\"Original list: {my_list}\")\n",
        "third_element = my_list[2]\n",
        "print(f\"The element at index 2 (third element) is: {third_element}\")\n"
      ],
      "metadata": {
        "colab": {
          "base_uri": "https://localhost:8080/"
        },
        "id": "uHYCdOq0ZR9g",
        "outputId": "0824a29d-c170-4dbe-ecee-67f46ede7627"
      },
      "execution_count": 31,
      "outputs": [
        {
          "output_type": "stream",
          "name": "stdout",
          "text": [
            "Original list: ['apple', 'banana', 'cherry', 'date', 'elderberry']\n",
            "The element at index 2 (third element) is: cherry\n"
          ]
        }
      ]
    },
    {
      "cell_type": "markdown",
      "source": [
        "Q.29. Write a code to combine two dictionaries into one and print the result."
      ],
      "metadata": {
        "id": "W2fxt3o8ZnS1"
      }
    },
    {
      "cell_type": "code",
      "source": [
        "dict1 = {'a': 1, 'b': 2}\n",
        "dict2 = {'c': 3, 'd': 4}\n",
        "combined_dict = {**dict1, **dict2}\n",
        "print(f\"Dictionary 1: {dict1}\")\n",
        "print(f\"Dictionary 2: {dict2}\")\n",
        "print(f\"Combined dictionary: {combined_dict}\")\n",
        "#\n"
      ],
      "metadata": {
        "colab": {
          "base_uri": "https://localhost:8080/"
        },
        "id": "63QwCPn5ZuQh",
        "outputId": "22f720a7-ae86-4470-b3ee-fd3edf73cf7a"
      },
      "execution_count": 32,
      "outputs": [
        {
          "output_type": "stream",
          "name": "stdout",
          "text": [
            "Dictionary 1: {'a': 1, 'b': 2}\n",
            "Dictionary 2: {'c': 3, 'd': 4}\n",
            "Combined dictionary: {'a': 1, 'b': 2, 'c': 3, 'd': 4}\n"
          ]
        }
      ]
    },
    {
      "cell_type": "markdown",
      "source": [
        "Q.30  Write a code to convert a list of strings into a set."
      ],
      "metadata": {
        "id": "u1fNyd21aMwi"
      }
    },
    {
      "cell_type": "code",
      "source": [
        "my_string_list = ['apple', 'banana', 'cherry', 'date', 'elderberry']\n",
        "my_string_set = set(my_string_list)\n",
        "print(f\"Original list of strings: {my_string_list}\")\n",
        "print(f\"Converted set of strings: {my_string_set}\")\n",
        "#"
      ],
      "metadata": {
        "colab": {
          "base_uri": "https://localhost:8080/"
        },
        "id": "w7aqNgW7aRkJ",
        "outputId": "e5568b18-85cf-4768-f982-139524d6822c"
      },
      "execution_count": 33,
      "outputs": [
        {
          "output_type": "stream",
          "name": "stdout",
          "text": [
            "Original list of strings: ['apple', 'banana', 'cherry', 'date', 'elderberry']\n",
            "Converted set of strings: {'apple', 'date', 'elderberry', 'cherry', 'banana'}\n"
          ]
        }
      ]
    }
  ]
}